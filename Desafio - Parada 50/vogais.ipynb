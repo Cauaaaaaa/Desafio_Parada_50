{
 "cells": [
  {
   "cell_type": "code",
   "execution_count": 15,
   "metadata": {},
   "outputs": [
    {
     "name": "stdout",
     "output_type": "stream",
     "text": [
      "A - 112\n",
      "E - 79\n",
      "I - 33\n",
      "O - 92\n",
      "U - 41\n"
     ]
    }
   ],
   "source": [
    "#Unica maneira que encontrei de tirar os acentos das letras foi importar essa biblioteca \"Unidecode\"\n",
    "from unidecode import unidecode\n",
    "\n",
    "arquivo_nome = \"exagerado_letra.txt\"\n",
    "\n",
    "vogais = {'A': 0, 'E': 0, 'I': 0, 'O': 0, 'U': 0}\n",
    "\n",
    "with open(arquivo_nome, 'r', encoding='utf-8') as f:\n",
    "    texto = unidecode(f.read().upper())\n",
    "\n",
    "for letras in texto:\n",
    "    if letras in vogais:\n",
    "        vogais[letras] += 1\n",
    "\n",
    "for vogal, quantidade in vogais.items():\n",
    "    print(f\"{vogal} - {quantidade}\")"
   ]
  }
 ],
 "metadata": {
  "kernelspec": {
   "display_name": "Python 3",
   "language": "python",
   "name": "python3"
  },
  "language_info": {
   "codemirror_mode": {
    "name": "ipython",
    "version": 3
   },
   "file_extension": ".py",
   "mimetype": "text/x-python",
   "name": "python",
   "nbconvert_exporter": "python",
   "pygments_lexer": "ipython3",
   "version": "3.12.4"
  }
 },
 "nbformat": 4,
 "nbformat_minor": 2
}
